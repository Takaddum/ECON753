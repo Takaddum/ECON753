{
 "cells": [
  {
   "cell_type": "code",
   "execution_count": 1,
   "id": "df0e5eeb-fc17-4cae-9f00-80d066720539",
   "metadata": {},
   "outputs": [
    {
     "name": "stdout",
     "output_type": "stream",
     "text": [
      "Newton-Raphson solution: [0.70710678 0.70710678]\n",
      "Newton-Raphson iterations: 11\n",
      "\n",
      "Broyden solution: [0.70710678 0.70710678]\n"
     ]
    },
    {
     "ename": "AttributeError",
     "evalue": "nfev",
     "output_type": "error",
     "traceback": [
      "\u001b[1;31m---------------------------------------------------------------------------\u001b[0m",
      "\u001b[1;31mKeyError\u001b[0m                                  Traceback (most recent call last)",
      "File \u001b[1;32m~\\AppData\\Local\\Programs\\Python\\Python312\\Lib\\site-packages\\scipy\\_lib\\_util.py:860\u001b[0m, in \u001b[0;36m_RichResult.__getattr__\u001b[1;34m(self, name)\u001b[0m\n\u001b[0;32m    859\u001b[0m \u001b[38;5;28;01mtry\u001b[39;00m:\n\u001b[1;32m--> 860\u001b[0m     \u001b[38;5;28;01mreturn\u001b[39;00m \u001b[38;5;28;43mself\u001b[39;49m\u001b[43m[\u001b[49m\u001b[43mname\u001b[49m\u001b[43m]\u001b[49m\n\u001b[0;32m    861\u001b[0m \u001b[38;5;28;01mexcept\u001b[39;00m \u001b[38;5;167;01mKeyError\u001b[39;00m \u001b[38;5;28;01mas\u001b[39;00m e:\n",
      "\u001b[1;31mKeyError\u001b[0m: 'nfev'",
      "\nThe above exception was the direct cause of the following exception:\n",
      "\u001b[1;31mAttributeError\u001b[0m                            Traceback (most recent call last)",
      "Cell \u001b[1;32mIn[1], line 24\u001b[0m\n\u001b[0;32m     22\u001b[0m \u001b[38;5;28mprint\u001b[39m(\u001b[38;5;124m\"\u001b[39m\u001b[38;5;124mNewton-Raphson iterations:\u001b[39m\u001b[38;5;124m\"\u001b[39m, sol_newton\u001b[38;5;241m.\u001b[39mnfev)\n\u001b[0;32m     23\u001b[0m \u001b[38;5;28mprint\u001b[39m(\u001b[38;5;124m\"\u001b[39m\u001b[38;5;130;01m\\n\u001b[39;00m\u001b[38;5;124mBroyden solution:\u001b[39m\u001b[38;5;124m\"\u001b[39m, sol_broyden\u001b[38;5;241m.\u001b[39mx)\n\u001b[1;32m---> 24\u001b[0m \u001b[38;5;28mprint\u001b[39m(\u001b[38;5;124m\"\u001b[39m\u001b[38;5;124mBroyden iterations:\u001b[39m\u001b[38;5;124m\"\u001b[39m, \u001b[43msol_broyden\u001b[49m\u001b[38;5;241;43m.\u001b[39;49m\u001b[43mnfev\u001b[49m)\n",
      "File \u001b[1;32m~\\AppData\\Local\\Programs\\Python\\Python312\\Lib\\site-packages\\scipy\\_lib\\_util.py:862\u001b[0m, in \u001b[0;36m_RichResult.__getattr__\u001b[1;34m(self, name)\u001b[0m\n\u001b[0;32m    860\u001b[0m     \u001b[38;5;28;01mreturn\u001b[39;00m \u001b[38;5;28mself\u001b[39m[name]\n\u001b[0;32m    861\u001b[0m \u001b[38;5;28;01mexcept\u001b[39;00m \u001b[38;5;167;01mKeyError\u001b[39;00m \u001b[38;5;28;01mas\u001b[39;00m e:\n\u001b[1;32m--> 862\u001b[0m     \u001b[38;5;28;01mraise\u001b[39;00m \u001b[38;5;167;01mAttributeError\u001b[39;00m(name) \u001b[38;5;28;01mfrom\u001b[39;00m \u001b[38;5;21;01me\u001b[39;00m\n",
      "\u001b[1;31mAttributeError\u001b[0m: nfev"
     ]
    }
   ],
   "source": [
    "import numpy as np\n",
    "from scipy.optimize import root\n",
    "\n",
    "# Define the system of equations\n",
    "def equations(x):\n",
    "    F = np.zeros_like(x)\n",
    "    F[0] = x[0]**2 + x[1]**2 - 1\n",
    "    F[1] = x[0] - x[1]\n",
    "    return F\n",
    "\n",
    "# Initial guess\n",
    "x0 = [2.0, 1.0]\n",
    "\n",
    "# Solve using Newton-Raphson (method='hybr' in scipy.optimize.root)\n",
    "sol_newton = root(equations, x0, method='hybr', tol=1e-8)\n",
    "\n",
    "# Solve using Broyden (method='broyden1' in scipy.optimize.root)\n",
    "sol_broyden = root(equations, x0, method='broyden1', tol=1e-8)\n",
    "\n",
    "# Print results\n",
    "print(\"Newton-Raphson solution:\", sol_newton.x)\n",
    "print(\"Newton-Raphson iterations:\", sol_newton.nfev)\n",
    "print(\"\\nBroyden solution:\", sol_broyden.x)\n",
    "print(\"Broyden iterations:\", sol_broyden.nfev)\n"
   ]
  },
  {
   "cell_type": "code",
   "execution_count": 10,
   "id": "9740730e-e3a4-48c2-8156-082c0cd5048f",
   "metadata": {},
   "outputs": [
    {
     "ename": "UnboundLocalError",
     "evalue": "cannot access local variable 'A' where it is not associated with a value",
     "output_type": "error",
     "traceback": [
      "\u001b[1;31m---------------------------------------------------------------------------\u001b[0m",
      "\u001b[1;31mUnboundLocalError\u001b[0m                         Traceback (most recent call last)",
      "Cell \u001b[1;32mIn[10], line 52\u001b[0m\n\u001b[0;32m     49\u001b[0m x0 \u001b[38;5;241m=\u001b[39m [\u001b[38;5;241m0.5\u001b[39m, \u001b[38;5;241m0.5\u001b[39m]\n\u001b[0;32m     51\u001b[0m \u001b[38;5;66;03m# Run Broyden's algorithm\u001b[39;00m\n\u001b[1;32m---> 52\u001b[0m solution, success, iterations \u001b[38;5;241m=\u001b[39m \u001b[43mbroyden_algorithm\u001b[49m\u001b[43m(\u001b[49m\u001b[43mexample\u001b[49m\u001b[43m,\u001b[49m\u001b[43m \u001b[49m\u001b[43mx0\u001b[49m\u001b[43m)\u001b[49m\n\u001b[0;32m     54\u001b[0m \u001b[38;5;28;01mif\u001b[39;00m success:\n\u001b[0;32m     55\u001b[0m     \u001b[38;5;28mprint\u001b[39m(\u001b[38;5;124mf\u001b[39m\u001b[38;5;124m\"\u001b[39m\u001b[38;5;124mConverged to solution:\u001b[39m\u001b[38;5;132;01m{\u001b[39;00msolution\u001b[38;5;132;01m}\u001b[39;00m\u001b[38;5;124m.\u001b[39m\u001b[38;5;124m\"\u001b[39m)\n",
      "Cell \u001b[1;32mIn[10], line 9\u001b[0m, in \u001b[0;36mtime_decorator.<locals>.wrapper\u001b[1;34m(*args, **kwargs)\u001b[0m\n\u001b[0;32m      7\u001b[0m \u001b[38;5;28;01mdef\u001b[39;00m \u001b[38;5;21mwrapper\u001b[39m(\u001b[38;5;241m*\u001b[39margs, \u001b[38;5;241m*\u001b[39m\u001b[38;5;241m*\u001b[39mkwargs):\n\u001b[0;32m      8\u001b[0m     start_time \u001b[38;5;241m=\u001b[39m time\u001b[38;5;241m.\u001b[39mtime()\n\u001b[1;32m----> 9\u001b[0m     result \u001b[38;5;241m=\u001b[39m \u001b[43mfunc\u001b[49m\u001b[43m(\u001b[49m\u001b[38;5;241;43m*\u001b[39;49m\u001b[43margs\u001b[49m\u001b[43m,\u001b[49m\u001b[43m \u001b[49m\u001b[38;5;241;43m*\u001b[39;49m\u001b[38;5;241;43m*\u001b[39;49m\u001b[43mkwargs\u001b[49m\u001b[43m)\u001b[49m\n\u001b[0;32m     10\u001b[0m     end_time \u001b[38;5;241m=\u001b[39m time\u001b[38;5;241m.\u001b[39mtime()\n\u001b[0;32m     11\u001b[0m     \u001b[38;5;28mprint\u001b[39m(\u001b[38;5;124mf\u001b[39m\u001b[38;5;124m\"\u001b[39m\u001b[38;5;124mExecution time: \u001b[39m\u001b[38;5;132;01m{\u001b[39;00mend_time\u001b[38;5;250m \u001b[39m\u001b[38;5;241m-\u001b[39m\u001b[38;5;250m \u001b[39mstart_time\u001b[38;5;132;01m:\u001b[39;00m\u001b[38;5;124m.8f\u001b[39m\u001b[38;5;132;01m}\u001b[39;00m\u001b[38;5;124m seconds.\u001b[39m\u001b[38;5;124m\"\u001b[39m)\n",
      "Cell \u001b[1;32mIn[10], line 41\u001b[0m, in \u001b[0;36mbroyden_algorithm\u001b[1;34m(fnc, x0, tol, max_iter)\u001b[0m\n\u001b[0;32m     38\u001b[0m \u001b[38;5;28;01mif\u001b[39;00m np\u001b[38;5;241m.\u001b[39mlinalg\u001b[38;5;241m.\u001b[39mnorm(F_new, \u001b[38;5;28mord\u001b[39m\u001b[38;5;241m=\u001b[39mnp\u001b[38;5;241m.\u001b[39minf) \u001b[38;5;241m<\u001b[39m tol:\n\u001b[0;32m     39\u001b[0m     \u001b[38;5;28;01mreturn\u001b[39;00m x_new, \u001b[38;5;28;01mTrue\u001b[39;00m, iteration \u001b[38;5;241m+\u001b[39m \u001b[38;5;241m1\u001b[39m\n\u001b[1;32m---> 41\u001b[0m \u001b[43mA\u001b[49m \u001b[38;5;241m+\u001b[39m\u001b[38;5;241m=\u001b[39m np\u001b[38;5;241m.\u001b[39mouter((F_new \u001b[38;5;241m-\u001b[39m F \u001b[38;5;241m-\u001b[39m A \u001b[38;5;241m@\u001b[39m dx), dx) \u001b[38;5;241m/\u001b[39m (dx \u001b[38;5;241m@\u001b[39m dx) \u001b[38;5;66;03m# update Jacobian\u001b[39;00m\n\u001b[0;32m     43\u001b[0m \u001b[38;5;66;03m# Update x and F for the next iteration\u001b[39;00m\n\u001b[0;32m     44\u001b[0m x, F \u001b[38;5;241m=\u001b[39m x_new, F_new\n",
      "\u001b[1;31mUnboundLocalError\u001b[0m: cannot access local variable 'A' where it is not associated with a value"
     ]
    }
   ],
   "source": [
    "import numpy as np\n",
    "import time\n",
    "\n",
    "def time_decorator(func):\n",
    "    \"\"\"Decorator to measure the execution time of a function.\"\"\"\n",
    "    \n",
    "    def wrapper(*args, **kwargs):\n",
    "        start_time = time.time()\n",
    "        result = func(*args, **kwargs)\n",
    "        end_time = time.time()\n",
    "        print(f\"Execution time: {end_time - start_time:.8f} seconds.\")\n",
    "        return result\n",
    "    return wrapper\n",
    "\n",
    "\n",
    "def example(x):\n",
    "    \"\"\" Example system of equations. \"\"\"\n",
    "    F = np.zeros(2)\n",
    "    F[0] = x[0]**2 + x[1]**2 - 1\n",
    "    F[1] = x[0] - x[1]\n",
    "    return F\n",
    "\n",
    "\n",
    "@time_decorator\n",
    "def broyden_algorithm(fnc, x0, tol=1e-6, max_iter=100):\n",
    "    \"\"\" Broyden's algorithm implementation. \"\"\"\n",
    "    \n",
    "    x = np.array(x0, dtype=float)\n",
    "    n = len(x0)\n",
    "    F = fnc(x)\n",
    "    B = np.eye(n)\n",
    "\n",
    "    for iteration in range(max_iter):\n",
    "        x_new = x + np.linalg.solve(B, -F)\n",
    "        dx = x_new - x \n",
    "        F_new = fnc(x_new) \n",
    "\n",
    "        if np.linalg.norm(F_new, ord=np.inf) < tol:\n",
    "            return x_new, True, iteration + 1\n",
    "            \n",
    "        A += np.outer((F_new - F - A @ dx), dx) / (dx @ dx) # update Jacobian\n",
    "\n",
    "        # Update x and F for the next iteration\n",
    "        x, F = x_new, F_new\n",
    "\n",
    "    return x, False, max_iter\n",
    "\n",
    "# Initial guess\n",
    "x0 = [0.5, 0.5]\n",
    "\n",
    "# Run Broyden's algorithm\n",
    "solution, success, iterations = broyden_algorithm(example, x0)\n",
    "\n",
    "if success:\n",
    "    print(f\"Converged to solution:{solution}.\")\n",
    "    print(f\"Number of iterations:{iterations}\")\n",
    "else:\n",
    "    print(\"Did not converge.\")\n"
   ]
  },
  {
   "cell_type": "code",
   "execution_count": null,
   "id": "5dc1d1a6-31ad-4769-991b-d4d1e7d6efa6",
   "metadata": {},
   "outputs": [],
   "source": []
  }
 ],
 "metadata": {
  "kernelspec": {
   "display_name": "Python 3 (ipykernel)",
   "language": "python",
   "name": "python3"
  },
  "language_info": {
   "codemirror_mode": {
    "name": "ipython",
    "version": 3
   },
   "file_extension": ".py",
   "mimetype": "text/x-python",
   "name": "python",
   "nbconvert_exporter": "python",
   "pygments_lexer": "ipython3",
   "version": "3.12.3"
  }
 },
 "nbformat": 4,
 "nbformat_minor": 5
}
